{
 "cells": [
  {
   "cell_type": "code",
   "execution_count": 59,
   "id": "12efe250",
   "metadata": {},
   "outputs": [],
   "source": [
    "import numpy as np\n",
    "import pandas as pd\n",
    "import matplotlib.pyplot as plt\n",
    "import sklearn"
   ]
  },
  {
   "cell_type": "code",
   "execution_count": 60,
   "id": "346d8a96",
   "metadata": {},
   "outputs": [],
   "source": [
    "dataset = pd.read_csv('Glass.csv')"
   ]
  },
  {
   "cell_type": "code",
   "execution_count": 61,
   "id": "7f44f81e",
   "metadata": {},
   "outputs": [
    {
     "data": {
      "text/html": [
       "<div>\n",
       "<style scoped>\n",
       "    .dataframe tbody tr th:only-of-type {\n",
       "        vertical-align: middle;\n",
       "    }\n",
       "\n",
       "    .dataframe tbody tr th {\n",
       "        vertical-align: top;\n",
       "    }\n",
       "\n",
       "    .dataframe thead th {\n",
       "        text-align: right;\n",
       "    }\n",
       "</style>\n",
       "<table border=\"1\" class=\"dataframe\">\n",
       "  <thead>\n",
       "    <tr style=\"text-align: right;\">\n",
       "      <th></th>\n",
       "      <th>RI</th>\n",
       "      <th>Na</th>\n",
       "      <th>Mg</th>\n",
       "      <th>Al</th>\n",
       "      <th>Si</th>\n",
       "      <th>K</th>\n",
       "      <th>Ca</th>\n",
       "      <th>Ba</th>\n",
       "      <th>Fe</th>\n",
       "      <th>Type</th>\n",
       "    </tr>\n",
       "  </thead>\n",
       "  <tbody>\n",
       "    <tr>\n",
       "      <th>0</th>\n",
       "      <td>1.52101</td>\n",
       "      <td>13.64</td>\n",
       "      <td>4.49</td>\n",
       "      <td>1.10</td>\n",
       "      <td>71.78</td>\n",
       "      <td>0.06</td>\n",
       "      <td>8.75</td>\n",
       "      <td>0.0</td>\n",
       "      <td>0.00</td>\n",
       "      <td>1</td>\n",
       "    </tr>\n",
       "    <tr>\n",
       "      <th>1</th>\n",
       "      <td>1.51761</td>\n",
       "      <td>13.89</td>\n",
       "      <td>3.60</td>\n",
       "      <td>1.36</td>\n",
       "      <td>72.73</td>\n",
       "      <td>0.48</td>\n",
       "      <td>7.83</td>\n",
       "      <td>0.0</td>\n",
       "      <td>0.00</td>\n",
       "      <td>1</td>\n",
       "    </tr>\n",
       "    <tr>\n",
       "      <th>2</th>\n",
       "      <td>1.51618</td>\n",
       "      <td>13.53</td>\n",
       "      <td>3.55</td>\n",
       "      <td>1.54</td>\n",
       "      <td>72.99</td>\n",
       "      <td>0.39</td>\n",
       "      <td>7.78</td>\n",
       "      <td>0.0</td>\n",
       "      <td>0.00</td>\n",
       "      <td>1</td>\n",
       "    </tr>\n",
       "    <tr>\n",
       "      <th>3</th>\n",
       "      <td>1.51766</td>\n",
       "      <td>13.21</td>\n",
       "      <td>3.69</td>\n",
       "      <td>1.29</td>\n",
       "      <td>72.61</td>\n",
       "      <td>0.57</td>\n",
       "      <td>8.22</td>\n",
       "      <td>0.0</td>\n",
       "      <td>0.00</td>\n",
       "      <td>1</td>\n",
       "    </tr>\n",
       "    <tr>\n",
       "      <th>4</th>\n",
       "      <td>1.51742</td>\n",
       "      <td>13.27</td>\n",
       "      <td>3.62</td>\n",
       "      <td>1.24</td>\n",
       "      <td>73.08</td>\n",
       "      <td>0.55</td>\n",
       "      <td>8.07</td>\n",
       "      <td>0.0</td>\n",
       "      <td>0.00</td>\n",
       "      <td>1</td>\n",
       "    </tr>\n",
       "    <tr>\n",
       "      <th>5</th>\n",
       "      <td>1.51596</td>\n",
       "      <td>12.79</td>\n",
       "      <td>3.61</td>\n",
       "      <td>1.62</td>\n",
       "      <td>72.97</td>\n",
       "      <td>0.64</td>\n",
       "      <td>8.07</td>\n",
       "      <td>0.0</td>\n",
       "      <td>0.26</td>\n",
       "      <td>1</td>\n",
       "    </tr>\n",
       "    <tr>\n",
       "      <th>6</th>\n",
       "      <td>1.51743</td>\n",
       "      <td>13.30</td>\n",
       "      <td>3.60</td>\n",
       "      <td>1.14</td>\n",
       "      <td>73.09</td>\n",
       "      <td>0.58</td>\n",
       "      <td>8.17</td>\n",
       "      <td>0.0</td>\n",
       "      <td>0.00</td>\n",
       "      <td>1</td>\n",
       "    </tr>\n",
       "    <tr>\n",
       "      <th>7</th>\n",
       "      <td>1.51756</td>\n",
       "      <td>13.15</td>\n",
       "      <td>3.61</td>\n",
       "      <td>1.05</td>\n",
       "      <td>73.24</td>\n",
       "      <td>0.57</td>\n",
       "      <td>8.24</td>\n",
       "      <td>0.0</td>\n",
       "      <td>0.00</td>\n",
       "      <td>1</td>\n",
       "    </tr>\n",
       "    <tr>\n",
       "      <th>8</th>\n",
       "      <td>1.51918</td>\n",
       "      <td>14.04</td>\n",
       "      <td>3.58</td>\n",
       "      <td>1.37</td>\n",
       "      <td>72.08</td>\n",
       "      <td>0.56</td>\n",
       "      <td>8.30</td>\n",
       "      <td>0.0</td>\n",
       "      <td>0.00</td>\n",
       "      <td>1</td>\n",
       "    </tr>\n",
       "    <tr>\n",
       "      <th>9</th>\n",
       "      <td>1.51755</td>\n",
       "      <td>13.00</td>\n",
       "      <td>3.60</td>\n",
       "      <td>1.36</td>\n",
       "      <td>72.99</td>\n",
       "      <td>0.57</td>\n",
       "      <td>8.40</td>\n",
       "      <td>0.0</td>\n",
       "      <td>0.11</td>\n",
       "      <td>1</td>\n",
       "    </tr>\n",
       "    <tr>\n",
       "      <th>10</th>\n",
       "      <td>1.51571</td>\n",
       "      <td>12.72</td>\n",
       "      <td>3.46</td>\n",
       "      <td>1.56</td>\n",
       "      <td>73.20</td>\n",
       "      <td>0.67</td>\n",
       "      <td>8.09</td>\n",
       "      <td>0.0</td>\n",
       "      <td>0.24</td>\n",
       "      <td>1</td>\n",
       "    </tr>\n",
       "    <tr>\n",
       "      <th>11</th>\n",
       "      <td>1.51763</td>\n",
       "      <td>12.80</td>\n",
       "      <td>3.66</td>\n",
       "      <td>1.27</td>\n",
       "      <td>73.01</td>\n",
       "      <td>0.60</td>\n",
       "      <td>8.56</td>\n",
       "      <td>0.0</td>\n",
       "      <td>0.00</td>\n",
       "      <td>1</td>\n",
       "    </tr>\n",
       "    <tr>\n",
       "      <th>12</th>\n",
       "      <td>1.51589</td>\n",
       "      <td>12.88</td>\n",
       "      <td>3.43</td>\n",
       "      <td>1.40</td>\n",
       "      <td>73.28</td>\n",
       "      <td>0.69</td>\n",
       "      <td>8.05</td>\n",
       "      <td>0.0</td>\n",
       "      <td>0.24</td>\n",
       "      <td>1</td>\n",
       "    </tr>\n",
       "    <tr>\n",
       "      <th>13</th>\n",
       "      <td>1.51748</td>\n",
       "      <td>12.86</td>\n",
       "      <td>3.56</td>\n",
       "      <td>1.27</td>\n",
       "      <td>73.21</td>\n",
       "      <td>0.54</td>\n",
       "      <td>8.38</td>\n",
       "      <td>0.0</td>\n",
       "      <td>0.17</td>\n",
       "      <td>1</td>\n",
       "    </tr>\n",
       "    <tr>\n",
       "      <th>14</th>\n",
       "      <td>1.51763</td>\n",
       "      <td>12.61</td>\n",
       "      <td>3.59</td>\n",
       "      <td>1.31</td>\n",
       "      <td>73.29</td>\n",
       "      <td>0.58</td>\n",
       "      <td>8.50</td>\n",
       "      <td>0.0</td>\n",
       "      <td>0.00</td>\n",
       "      <td>1</td>\n",
       "    </tr>\n",
       "    <tr>\n",
       "      <th>15</th>\n",
       "      <td>1.51761</td>\n",
       "      <td>12.81</td>\n",
       "      <td>3.54</td>\n",
       "      <td>1.23</td>\n",
       "      <td>73.24</td>\n",
       "      <td>0.58</td>\n",
       "      <td>8.39</td>\n",
       "      <td>0.0</td>\n",
       "      <td>0.00</td>\n",
       "      <td>1</td>\n",
       "    </tr>\n",
       "    <tr>\n",
       "      <th>16</th>\n",
       "      <td>1.51784</td>\n",
       "      <td>12.68</td>\n",
       "      <td>3.67</td>\n",
       "      <td>1.16</td>\n",
       "      <td>73.11</td>\n",
       "      <td>0.61</td>\n",
       "      <td>8.70</td>\n",
       "      <td>0.0</td>\n",
       "      <td>0.00</td>\n",
       "      <td>1</td>\n",
       "    </tr>\n",
       "    <tr>\n",
       "      <th>17</th>\n",
       "      <td>1.52196</td>\n",
       "      <td>14.36</td>\n",
       "      <td>3.85</td>\n",
       "      <td>0.89</td>\n",
       "      <td>71.36</td>\n",
       "      <td>0.15</td>\n",
       "      <td>9.15</td>\n",
       "      <td>0.0</td>\n",
       "      <td>0.00</td>\n",
       "      <td>1</td>\n",
       "    </tr>\n",
       "    <tr>\n",
       "      <th>18</th>\n",
       "      <td>1.51911</td>\n",
       "      <td>13.90</td>\n",
       "      <td>3.73</td>\n",
       "      <td>1.18</td>\n",
       "      <td>72.12</td>\n",
       "      <td>0.06</td>\n",
       "      <td>8.89</td>\n",
       "      <td>0.0</td>\n",
       "      <td>0.00</td>\n",
       "      <td>1</td>\n",
       "    </tr>\n",
       "    <tr>\n",
       "      <th>19</th>\n",
       "      <td>1.51735</td>\n",
       "      <td>13.02</td>\n",
       "      <td>3.54</td>\n",
       "      <td>1.69</td>\n",
       "      <td>72.73</td>\n",
       "      <td>0.54</td>\n",
       "      <td>8.44</td>\n",
       "      <td>0.0</td>\n",
       "      <td>0.07</td>\n",
       "      <td>1</td>\n",
       "    </tr>\n",
       "  </tbody>\n",
       "</table>\n",
       "</div>"
      ],
      "text/plain": [
       "         RI     Na    Mg    Al     Si     K    Ca   Ba    Fe  Type\n",
       "0   1.52101  13.64  4.49  1.10  71.78  0.06  8.75  0.0  0.00     1\n",
       "1   1.51761  13.89  3.60  1.36  72.73  0.48  7.83  0.0  0.00     1\n",
       "2   1.51618  13.53  3.55  1.54  72.99  0.39  7.78  0.0  0.00     1\n",
       "3   1.51766  13.21  3.69  1.29  72.61  0.57  8.22  0.0  0.00     1\n",
       "4   1.51742  13.27  3.62  1.24  73.08  0.55  8.07  0.0  0.00     1\n",
       "5   1.51596  12.79  3.61  1.62  72.97  0.64  8.07  0.0  0.26     1\n",
       "6   1.51743  13.30  3.60  1.14  73.09  0.58  8.17  0.0  0.00     1\n",
       "7   1.51756  13.15  3.61  1.05  73.24  0.57  8.24  0.0  0.00     1\n",
       "8   1.51918  14.04  3.58  1.37  72.08  0.56  8.30  0.0  0.00     1\n",
       "9   1.51755  13.00  3.60  1.36  72.99  0.57  8.40  0.0  0.11     1\n",
       "10  1.51571  12.72  3.46  1.56  73.20  0.67  8.09  0.0  0.24     1\n",
       "11  1.51763  12.80  3.66  1.27  73.01  0.60  8.56  0.0  0.00     1\n",
       "12  1.51589  12.88  3.43  1.40  73.28  0.69  8.05  0.0  0.24     1\n",
       "13  1.51748  12.86  3.56  1.27  73.21  0.54  8.38  0.0  0.17     1\n",
       "14  1.51763  12.61  3.59  1.31  73.29  0.58  8.50  0.0  0.00     1\n",
       "15  1.51761  12.81  3.54  1.23  73.24  0.58  8.39  0.0  0.00     1\n",
       "16  1.51784  12.68  3.67  1.16  73.11  0.61  8.70  0.0  0.00     1\n",
       "17  1.52196  14.36  3.85  0.89  71.36  0.15  9.15  0.0  0.00     1\n",
       "18  1.51911  13.90  3.73  1.18  72.12  0.06  8.89  0.0  0.00     1\n",
       "19  1.51735  13.02  3.54  1.69  72.73  0.54  8.44  0.0  0.07     1"
      ]
     },
     "execution_count": 61,
     "metadata": {},
     "output_type": "execute_result"
    }
   ],
   "source": [
    "dataset[:20]"
   ]
  },
  {
   "cell_type": "code",
   "execution_count": 62,
   "id": "519a895d",
   "metadata": {},
   "outputs": [
    {
     "name": "stdout",
     "output_type": "stream",
     "text": [
      "Unique values for RI: 178\n",
      "Unique values for Na: 142\n",
      "Unique values for Mg: 94\n",
      "Unique values for Al: 118\n",
      "Unique values for Si: 133\n",
      "Unique values for K: 65\n",
      "Unique values for Ca: 143\n",
      "Unique values for Ba: 34\n",
      "Unique values for Fe: 32\n",
      "Unique values for Type: 6\n"
     ]
    }
   ],
   "source": [
    "for i in dataset.columns:\n",
    "    print(f'Unique values for {i}: {len(dataset[i].unique())}')"
   ]
  },
  {
   "cell_type": "markdown",
   "id": "493d5b83",
   "metadata": {},
   "source": [
    "# Data spliting"
   ]
  },
  {
   "cell_type": "code",
   "execution_count": 63,
   "id": "7cad6773",
   "metadata": {},
   "outputs": [],
   "source": [
    "from sklearn.model_selection import train_test_split"
   ]
  },
  {
   "cell_type": "code",
   "execution_count": 64,
   "id": "bd2ae23c",
   "metadata": {},
   "outputs": [],
   "source": [
    "x=dataset.iloc[:,:-1]\n",
    "y=dataset.iloc[:,-1]"
   ]
  },
  {
   "cell_type": "markdown",
   "id": "cc6306b6",
   "metadata": {},
   "source": [
    "# Data Scaling"
   ]
  },
  {
   "cell_type": "code",
   "execution_count": 65,
   "id": "c9a969e8",
   "metadata": {},
   "outputs": [
    {
     "data": {
      "image/png": "[encoded data removed]",
      "text/plain": [
       "<Figure size 1200x1200 with 9 Axes>"
      ]
     },
     "metadata": {},
     "output_type": "display_data"
    }
   ],
   "source": [
    "# Plot histograms for each column\n",
    "fig, axes = plt.subplots(3, 3, figsize=(12, 12))\n",
    "axes = axes.flatten()\n",
    "\n",
    "for i, column in enumerate(x.columns):\n",
    "    axes[i].hist(x[column], bins=10, color='blue', alpha=0.7)\n",
    "    axes[i].set_xlabel(column)\n",
    "    axes[i].set_ylabel('Frequency')\n",
    "\n",
    "plt.tight_layout()\n",
    "plt.show()"
   ]
  },
  {
   "cell_type": "code",
   "execution_count": 66,
   "id": "89ae05a2",
   "metadata": {},
   "outputs": [],
   "source": [
    "from sklearn.preprocessing import StandardScaler\n",
    "ss = StandardScaler()"
   ]
  },
  {
   "cell_type": "code",
   "execution_count": 67,
   "id": "776f755e",
   "metadata": {},
   "outputs": [],
   "source": [
    "data_columns = ['RI', 'Na', 'Mg', 'Al', 'Si', 'K', 'Ca', 'Ba', 'Fe']"
   ]
  },
  {
   "cell_type": "code",
   "execution_count": 68,
   "id": "258970bb",
   "metadata": {},
   "outputs": [],
   "source": [
    "x=ss.fit_transform(x)"
   ]
  },
  {
   "cell_type": "code",
   "execution_count": 69,
   "id": "7e52d2b7",
   "metadata": {},
   "outputs": [],
   "source": [
    "x = pd.DataFrame(x,columns=data_columns)"
   ]
  },
  {
   "cell_type": "code",
   "execution_count": 70,
   "id": "0f97c209",
   "metadata": {},
   "outputs": [
    {
     "data": {
      "text/html": [
       "<div>\n",
       "<style scoped>\n",
       "    .dataframe tbody tr th:only-of-type {\n",
       "        vertical-align: middle;\n",
       "    }\n",
       "\n",
       "    .dataframe tbody tr th {\n",
       "        vertical-align: top;\n",
       "    }\n",
       "\n",
       "    .dataframe thead th {\n",
       "        text-align: right;\n",
       "    }\n",
       "</style>\n",
       "<table border=\"1\" class=\"dataframe\">\n",
       "  <thead>\n",
       "    <tr style=\"text-align: right;\">\n",
       "      <th></th>\n",
       "      <th>RI</th>\n",
       "      <th>Na</th>\n",
       "      <th>Mg</th>\n",
       "      <th>Al</th>\n",
       "      <th>Si</th>\n",
       "      <th>K</th>\n",
       "      <th>Ca</th>\n",
       "      <th>Ba</th>\n",
       "      <th>Fe</th>\n",
       "    </tr>\n",
       "  </thead>\n",
       "  <tbody>\n",
       "    <tr>\n",
       "      <th>0</th>\n",
       "      <td>0.872868</td>\n",
       "      <td>0.284953</td>\n",
       "      <td>1.254639</td>\n",
       "      <td>-0.692442</td>\n",
       "      <td>-1.127082</td>\n",
       "      <td>-0.671705</td>\n",
       "      <td>-0.145766</td>\n",
       "      <td>-0.352877</td>\n",
       "      <td>-0.586451</td>\n",
       "    </tr>\n",
       "    <tr>\n",
       "      <th>1</th>\n",
       "      <td>-0.249333</td>\n",
       "      <td>0.591817</td>\n",
       "      <td>0.636168</td>\n",
       "      <td>-0.170460</td>\n",
       "      <td>0.102319</td>\n",
       "      <td>-0.026213</td>\n",
       "      <td>-0.793734</td>\n",
       "      <td>-0.352877</td>\n",
       "      <td>-0.586451</td>\n",
       "    </tr>\n",
       "    <tr>\n",
       "      <th>2</th>\n",
       "      <td>-0.721318</td>\n",
       "      <td>0.149933</td>\n",
       "      <td>0.601422</td>\n",
       "      <td>0.190912</td>\n",
       "      <td>0.438787</td>\n",
       "      <td>-0.164533</td>\n",
       "      <td>-0.828949</td>\n",
       "      <td>-0.352877</td>\n",
       "      <td>-0.586451</td>\n",
       "    </tr>\n",
       "    <tr>\n",
       "      <th>3</th>\n",
       "      <td>-0.232831</td>\n",
       "      <td>-0.242853</td>\n",
       "      <td>0.698710</td>\n",
       "      <td>-0.310994</td>\n",
       "      <td>-0.052974</td>\n",
       "      <td>0.112107</td>\n",
       "      <td>-0.519052</td>\n",
       "      <td>-0.352877</td>\n",
       "      <td>-0.586451</td>\n",
       "    </tr>\n",
       "    <tr>\n",
       "      <th>4</th>\n",
       "      <td>-0.312045</td>\n",
       "      <td>-0.169205</td>\n",
       "      <td>0.650066</td>\n",
       "      <td>-0.411375</td>\n",
       "      <td>0.555256</td>\n",
       "      <td>0.081369</td>\n",
       "      <td>-0.624699</td>\n",
       "      <td>-0.352877</td>\n",
       "      <td>-0.586451</td>\n",
       "    </tr>\n",
       "    <tr>\n",
       "      <th>...</th>\n",
       "      <td>...</td>\n",
       "      <td>...</td>\n",
       "      <td>...</td>\n",
       "      <td>...</td>\n",
       "      <td>...</td>\n",
       "      <td>...</td>\n",
       "      <td>...</td>\n",
       "      <td>...</td>\n",
       "      <td>...</td>\n",
       "    </tr>\n",
       "    <tr>\n",
       "      <th>209</th>\n",
       "      <td>-0.704815</td>\n",
       "      <td>0.898681</td>\n",
       "      <td>-1.865511</td>\n",
       "      <td>2.881125</td>\n",
       "      <td>-0.052974</td>\n",
       "      <td>-0.640968</td>\n",
       "      <td>0.157088</td>\n",
       "      <td>1.783978</td>\n",
       "      <td>-0.586451</td>\n",
       "    </tr>\n",
       "    <tr>\n",
       "      <th>210</th>\n",
       "      <td>-0.500178</td>\n",
       "      <td>1.856097</td>\n",
       "      <td>-1.865511</td>\n",
       "      <td>1.094342</td>\n",
       "      <td>0.529374</td>\n",
       "      <td>-0.763919</td>\n",
       "      <td>-0.392276</td>\n",
       "      <td>2.852405</td>\n",
       "      <td>-0.586451</td>\n",
       "    </tr>\n",
       "    <tr>\n",
       "      <th>211</th>\n",
       "      <td>0.754046</td>\n",
       "      <td>1.168721</td>\n",
       "      <td>-1.865511</td>\n",
       "      <td>1.154570</td>\n",
       "      <td>0.995252</td>\n",
       "      <td>-0.763919</td>\n",
       "      <td>-0.364103</td>\n",
       "      <td>2.953200</td>\n",
       "      <td>-0.586451</td>\n",
       "    </tr>\n",
       "    <tr>\n",
       "      <th>212</th>\n",
       "      <td>-0.612399</td>\n",
       "      <td>1.193270</td>\n",
       "      <td>-1.865511</td>\n",
       "      <td>0.993960</td>\n",
       "      <td>1.241133</td>\n",
       "      <td>-0.763919</td>\n",
       "      <td>-0.335931</td>\n",
       "      <td>2.812087</td>\n",
       "      <td>-0.586451</td>\n",
       "    </tr>\n",
       "    <tr>\n",
       "      <th>213</th>\n",
       "      <td>-0.414363</td>\n",
       "      <td>1.009152</td>\n",
       "      <td>-1.865511</td>\n",
       "      <td>1.275028</td>\n",
       "      <td>0.917606</td>\n",
       "      <td>-0.763919</td>\n",
       "      <td>-0.237327</td>\n",
       "      <td>3.013677</td>\n",
       "      <td>-0.586451</td>\n",
       "    </tr>\n",
       "  </tbody>\n",
       "</table>\n",
       "<p>214 rows × 9 columns</p>\n",
       "</div>"
      ],
      "text/plain": [
       "           RI        Na        Mg        Al        Si         K        Ca  \\\n",
       "0    0.872868  0.284953  1.254639 -0.692442 -1.127082 -0.671705 -0.145766   \n",
       "1   -0.249333  0.591817  0.636168 -0.170460  0.102319 -0.026213 -0.793734   \n",
       "2   -0.721318  0.149933  0.601422  0.190912  0.438787 -0.164533 -0.828949   \n",
       "3   -0.232831 -0.242853  0.698710 -0.310994 -0.052974  0.112107 -0.519052   \n",
       "4   -0.312045 -0.169205  0.650066 -0.411375  0.555256  0.081369 -0.624699   \n",
       "..        ...       ...       ...       ...       ...       ...       ...   \n",
       "209 -0.704815  0.898681 -1.865511  2.881125 -0.052974 -0.640968  0.157088   \n",
       "210 -0.500178  1.856097 -1.865511  1.094342  0.529374 -0.763919 -0.392276   \n",
       "211  0.754046  1.168721 -1.865511  1.154570  0.995252 -0.763919 -0.364103   \n",
       "212 -0.612399  1.193270 -1.865511  0.993960  1.241133 -0.763919 -0.335931   \n",
       "213 -0.414363  1.009152 -1.865511  1.275028  0.917606 -0.763919 -0.237327   \n",
       "\n",
       "           Ba        Fe  \n",
       "0   -0.352877 -0.586451  \n",
       "1   -0.352877 -0.586451  \n",
       "2   -0.352877 -0.586451  \n",
       "3   -0.352877 -0.586451  \n",
       "4   -0.352877 -0.586451  \n",
       "..        ...       ...  \n",
       "209  1.783978 -0.586451  \n",
       "210  2.852405 -0.586451  \n",
       "211  2.953200 -0.586451  \n",
       "212  2.812087 -0.586451  \n",
       "213  3.013677 -0.586451  \n",
       "\n",
       "[214 rows x 9 columns]"
      ]
     },
     "execution_count": 70,
     "metadata": {},
     "output_type": "execute_result"
    }
   ],
   "source": [
    "x"
   ]
  },
  {
   "cell_type": "markdown",
   "id": "e98e3908",
   "metadata": {},
   "source": [
    "# Data Preparing"
   ]
  },
  {
   "cell_type": "code",
   "execution_count": 71,
   "id": "beb152e4",
   "metadata": {},
   "outputs": [],
   "source": [
    "x_train,x_test,y_train,y_test = train_test_split(x,y,test_size=0.2,random_state=42)"
   ]
  },
  {
   "cell_type": "code",
   "execution_count": 72,
   "id": "9ca96454",
   "metadata": {},
   "outputs": [
    {
     "name": "stdout",
     "output_type": "stream",
     "text": [
      "x_train shape : (171, 9)\n",
      "x_test shape : (43, 9)\n",
      "y_train shape : (171,)\n",
      "y_test shape : (43,)\n"
     ]
    }
   ],
   "source": [
    "print(\"x_train shape :\",x_train.shape)\n",
    "print(\"x_test shape :\",x_test.shape)\n",
    "print(\"y_train shape :\",y_train.shape)\n",
    "print(\"y_test shape :\",y_test.shape)"
   ]
  },
  {
   "cell_type": "code",
   "execution_count": 73,
   "id": "2867553e",
   "metadata": {},
   "outputs": [
    {
     "data": {
      "text/html": [
       "<div>\n",
       "<style scoped>\n",
       "    .dataframe tbody tr th:only-of-type {\n",
       "        vertical-align: middle;\n",
       "    }\n",
       "\n",
       "    .dataframe tbody tr th {\n",
       "        vertical-align: top;\n",
       "    }\n",
       "\n",
       "    .dataframe thead th {\n",
       "        text-align: right;\n",
       "    }\n",
       "</style>\n",
       "<table border=\"1\" class=\"dataframe\">\n",
       "  <thead>\n",
       "    <tr style=\"text-align: right;\">\n",
       "      <th></th>\n",
       "      <th>RI</th>\n",
       "      <th>Na</th>\n",
       "      <th>Mg</th>\n",
       "      <th>Al</th>\n",
       "      <th>Si</th>\n",
       "      <th>K</th>\n",
       "      <th>Ca</th>\n",
       "      <th>Ba</th>\n",
       "      <th>Fe</th>\n",
       "    </tr>\n",
       "  </thead>\n",
       "  <tbody>\n",
       "    <tr>\n",
       "      <th>79</th>\n",
       "      <td>-0.813735</td>\n",
       "      <td>-0.721560</td>\n",
       "      <td>0.580575</td>\n",
       "      <td>0.913656</td>\n",
       "      <td>0.270553</td>\n",
       "      <td>0.296533</td>\n",
       "      <td>-0.695130</td>\n",
       "      <td>-0.352877</td>\n",
       "      <td>-0.586451</td>\n",
       "    </tr>\n",
       "    <tr>\n",
       "      <th>161</th>\n",
       "      <td>0.321669</td>\n",
       "      <td>0.284953</td>\n",
       "      <td>0.594473</td>\n",
       "      <td>-1.395110</td>\n",
       "      <td>-0.001209</td>\n",
       "      <td>-0.518017</td>\n",
       "      <td>-0.047163</td>\n",
       "      <td>-0.050492</td>\n",
       "      <td>1.882411</td>\n",
       "    </tr>\n",
       "    <tr>\n",
       "      <th>109</th>\n",
       "      <td>-0.061200</td>\n",
       "      <td>0.383150</td>\n",
       "      <td>-1.865511</td>\n",
       "      <td>-1.776558</td>\n",
       "      <td>2.328182</td>\n",
       "      <td>-0.763919</td>\n",
       "      <td>1.431893</td>\n",
       "      <td>-0.352877</td>\n",
       "      <td>-0.586451</td>\n",
       "    </tr>\n",
       "    <tr>\n",
       "      <th>127</th>\n",
       "      <td>0.806856</td>\n",
       "      <td>0.456797</td>\n",
       "      <td>-0.281114</td>\n",
       "      <td>-0.029927</td>\n",
       "      <td>-0.855320</td>\n",
       "      <td>-0.010844</td>\n",
       "      <td>0.628977</td>\n",
       "      <td>-0.352877</td>\n",
       "      <td>1.162326</td>\n",
       "    </tr>\n",
       "    <tr>\n",
       "      <th>95</th>\n",
       "      <td>0.077425</td>\n",
       "      <td>-0.058734</td>\n",
       "      <td>0.518033</td>\n",
       "      <td>-0.029927</td>\n",
       "      <td>-0.505911</td>\n",
       "      <td>0.019893</td>\n",
       "      <td>-0.251413</td>\n",
       "      <td>-0.352877</td>\n",
       "      <td>-0.586451</td>\n",
       "    </tr>\n",
       "    <tr>\n",
       "      <th>128</th>\n",
       "      <td>0.763948</td>\n",
       "      <td>0.174482</td>\n",
       "      <td>-0.413147</td>\n",
       "      <td>0.451903</td>\n",
       "      <td>-0.609439</td>\n",
       "      <td>0.050631</td>\n",
       "      <td>0.431770</td>\n",
       "      <td>0.191416</td>\n",
       "      <td>1.162326</td>\n",
       "    </tr>\n",
       "    <tr>\n",
       "      <th>136</th>\n",
       "      <td>-0.100807</td>\n",
       "      <td>-0.500618</td>\n",
       "      <td>0.775150</td>\n",
       "      <td>-0.732594</td>\n",
       "      <td>0.542315</td>\n",
       "      <td>0.096738</td>\n",
       "      <td>-0.406362</td>\n",
       "      <td>-0.352877</td>\n",
       "      <td>0.647980</td>\n",
       "    </tr>\n",
       "    <tr>\n",
       "      <th>38</th>\n",
       "      <td>1.242534</td>\n",
       "      <td>0.984603</td>\n",
       "      <td>0.789048</td>\n",
       "      <td>-1.957244</td>\n",
       "      <td>-1.140023</td>\n",
       "      <td>-0.594861</td>\n",
       "      <td>0.431770</td>\n",
       "      <td>-0.352877</td>\n",
       "      <td>-0.586451</td>\n",
       "    </tr>\n",
       "    <tr>\n",
       "      <th>24</th>\n",
       "      <td>-0.384658</td>\n",
       "      <td>-0.034185</td>\n",
       "      <td>0.566677</td>\n",
       "      <td>-0.592061</td>\n",
       "      <td>0.257612</td>\n",
       "      <td>0.004524</td>\n",
       "      <td>-0.371146</td>\n",
       "      <td>-0.352877</td>\n",
       "      <td>-0.586451</td>\n",
       "    </tr>\n",
       "    <tr>\n",
       "      <th>68</th>\n",
       "      <td>1.041198</td>\n",
       "      <td>-0.353324</td>\n",
       "      <td>0.622270</td>\n",
       "      <td>-1.093966</td>\n",
       "      <td>-0.583557</td>\n",
       "      <td>-0.410435</td>\n",
       "      <td>0.607848</td>\n",
       "      <td>-0.352877</td>\n",
       "      <td>1.059457</td>\n",
       "    </tr>\n",
       "    <tr>\n",
       "      <th>119</th>\n",
       "      <td>-0.609098</td>\n",
       "      <td>0.186757</td>\n",
       "      <td>0.615321</td>\n",
       "      <td>0.050378</td>\n",
       "      <td>-0.260031</td>\n",
       "      <td>0.219689</td>\n",
       "      <td>-0.702173</td>\n",
       "      <td>-0.352877</td>\n",
       "      <td>-0.586451</td>\n",
       "    </tr>\n",
       "    <tr>\n",
       "      <th>29</th>\n",
       "      <td>-0.173420</td>\n",
       "      <td>-0.402422</td>\n",
       "      <td>0.559728</td>\n",
       "      <td>-0.331070</td>\n",
       "      <td>0.270553</td>\n",
       "      <td>0.158213</td>\n",
       "      <td>-0.328888</td>\n",
       "      <td>-0.352877</td>\n",
       "      <td>-0.586451</td>\n",
       "    </tr>\n",
       "    <tr>\n",
       "      <th>19</th>\n",
       "      <td>-0.335149</td>\n",
       "      <td>-0.476069</td>\n",
       "      <td>0.594473</td>\n",
       "      <td>0.492055</td>\n",
       "      <td>0.102319</td>\n",
       "      <td>0.066000</td>\n",
       "      <td>-0.364103</td>\n",
       "      <td>-0.352877</td>\n",
       "      <td>0.133634</td>\n",
       "    </tr>\n",
       "    <tr>\n",
       "      <th>185</th>\n",
       "      <td>-2.328706</td>\n",
       "      <td>0.346326</td>\n",
       "      <td>0.358204</td>\n",
       "      <td>0.732970</td>\n",
       "      <td>0.205848</td>\n",
       "      <td>1.941001</td>\n",
       "      <td>-2.484084</td>\n",
       "      <td>2.046045</td>\n",
       "      <td>-0.586451</td>\n",
       "    </tr>\n",
       "    <tr>\n",
       "      <th>96</th>\n",
       "      <td>0.014714</td>\n",
       "      <td>-0.476069</td>\n",
       "      <td>0.650066</td>\n",
       "      <td>-0.772747</td>\n",
       "      <td>-0.402382</td>\n",
       "      <td>0.219689</td>\n",
       "      <td>0.121872</td>\n",
       "      <td>-0.352877</td>\n",
       "      <td>0.956588</td>\n",
       "    </tr>\n",
       "    <tr>\n",
       "      <th>164</th>\n",
       "      <td>0.258958</td>\n",
       "      <td>-0.832031</td>\n",
       "      <td>-0.579926</td>\n",
       "      <td>0.833351</td>\n",
       "      <td>0.050555</td>\n",
       "      <td>0.158213</td>\n",
       "      <td>0.798012</td>\n",
       "      <td>-0.352877</td>\n",
       "      <td>-0.586451</td>\n",
       "    </tr>\n",
       "    <tr>\n",
       "      <th>67</th>\n",
       "      <td>1.041198</td>\n",
       "      <td>-0.439246</td>\n",
       "      <td>0.670914</td>\n",
       "      <td>-1.154195</td>\n",
       "      <td>-0.428265</td>\n",
       "      <td>-0.471910</td>\n",
       "      <td>0.628977</td>\n",
       "      <td>-0.352877</td>\n",
       "      <td>1.162326</td>\n",
       "    </tr>\n",
       "    <tr>\n",
       "      <th>5</th>\n",
       "      <td>-0.793931</td>\n",
       "      <td>-0.758384</td>\n",
       "      <td>0.643117</td>\n",
       "      <td>0.351521</td>\n",
       "      <td>0.412905</td>\n",
       "      <td>0.219689</td>\n",
       "      <td>-0.624699</td>\n",
       "      <td>-0.352877</td>\n",
       "      <td>2.088150</td>\n",
       "    </tr>\n",
       "    <tr>\n",
       "      <th>135</th>\n",
       "      <td>-0.156917</td>\n",
       "      <td>-0.267402</td>\n",
       "      <td>0.844641</td>\n",
       "      <td>-0.290918</td>\n",
       "      <td>-0.415323</td>\n",
       "      <td>0.081369</td>\n",
       "      <td>-0.364103</td>\n",
       "      <td>-0.352877</td>\n",
       "      <td>2.293888</td>\n",
       "    </tr>\n",
       "    <tr>\n",
       "      <th>56</th>\n",
       "      <td>-2.051456</td>\n",
       "      <td>-0.512893</td>\n",
       "      <td>0.545830</td>\n",
       "      <td>-0.652289</td>\n",
       "      <td>0.425846</td>\n",
       "      <td>0.188951</td>\n",
       "      <td>-0.427491</td>\n",
       "      <td>-0.352877</td>\n",
       "      <td>2.602496</td>\n",
       "    </tr>\n",
       "  </tbody>\n",
       "</table>\n",
       "</div>"
      ],
      "text/plain": [
       "           RI        Na        Mg        Al        Si         K        Ca  \\\n",
       "79  -0.813735 -0.721560  0.580575  0.913656  0.270553  0.296533 -0.695130   \n",
       "161  0.321669  0.284953  0.594473 -1.395110 -0.001209 -0.518017 -0.047163   \n",
       "109 -0.061200  0.383150 -1.865511 -1.776558  2.328182 -0.763919  1.431893   \n",
       "127  0.806856  0.456797 -0.281114 -0.029927 -0.855320 -0.010844  0.628977   \n",
       "95   0.077425 -0.058734  0.518033 -0.029927 -0.505911  0.019893 -0.251413   \n",
       "128  0.763948  0.174482 -0.413147  0.451903 -0.609439  0.050631  0.431770   \n",
       "136 -0.100807 -0.500618  0.775150 -0.732594  0.542315  0.096738 -0.406362   \n",
       "38   1.242534  0.984603  0.789048 -1.957244 -1.140023 -0.594861  0.431770   \n",
       "24  -0.384658 -0.034185  0.566677 -0.592061  0.257612  0.004524 -0.371146   \n",
       "68   1.041198 -0.353324  0.622270 -1.093966 -0.583557 -0.410435  0.607848   \n",
       "119 -0.609098  0.186757  0.615321  0.050378 -0.260031  0.219689 -0.702173   \n",
       "29  -0.173420 -0.402422  0.559728 -0.331070  0.270553  0.158213 -0.328888   \n",
       "19  -0.335149 -0.476069  0.594473  0.492055  0.102319  0.066000 -0.364103   \n",
       "185 -2.328706  0.346326  0.358204  0.732970  0.205848  1.941001 -2.484084   \n",
       "96   0.014714 -0.476069  0.650066 -0.772747 -0.402382  0.219689  0.121872   \n",
       "164  0.258958 -0.832031 -0.579926  0.833351  0.050555  0.158213  0.798012   \n",
       "67   1.041198 -0.439246  0.670914 -1.154195 -0.428265 -0.471910  0.628977   \n",
       "5   -0.793931 -0.758384  0.643117  0.351521  0.412905  0.219689 -0.624699   \n",
       "135 -0.156917 -0.267402  0.844641 -0.290918 -0.415323  0.081369 -0.364103   \n",
       "56  -2.051456 -0.512893  0.545830 -0.652289  0.425846  0.188951 -0.427491   \n",
       "\n",
       "           Ba        Fe  \n",
       "79  -0.352877 -0.586451  \n",
       "161 -0.050492  1.882411  \n",
       "109 -0.352877 -0.586451  \n",
       "127 -0.352877  1.162326  \n",
       "95  -0.352877 -0.586451  \n",
       "128  0.191416  1.162326  \n",
       "136 -0.352877  0.647980  \n",
       "38  -0.352877 -0.586451  \n",
       "24  -0.352877 -0.586451  \n",
       "68  -0.352877  1.059457  \n",
       "119 -0.352877 -0.586451  \n",
       "29  -0.352877 -0.586451  \n",
       "19  -0.352877  0.133634  \n",
       "185  2.046045 -0.586451  \n",
       "96  -0.352877  0.956588  \n",
       "164 -0.352877 -0.586451  \n",
       "67  -0.352877  1.162326  \n",
       "5   -0.352877  2.088150  \n",
       "135 -0.352877  2.293888  \n",
       "56  -0.352877  2.602496  "
      ]
     },
     "execution_count": 73,
     "metadata": {},
     "output_type": "execute_result"
    }
   ],
   "source": [
    "x_train[:20]"
   ]
  },
  {
   "cell_type": "code",
   "execution_count": null,
   "id": "0656a45e",
   "metadata": {},
   "outputs": [],
   "source": []
  },
  {
   "cell_type": "markdown",
   "id": "2423c75c",
   "metadata": {},
   "source": [
    "# Model Selection\n",
    "# 1) Support Vector Classifier"
   ]
  },
  {
   "cell_type": "code",
   "execution_count": 74,
   "id": "b827efb2",
   "metadata": {},
   "outputs": [],
   "source": [
    "from sklearn.svm import SVC\n",
    "svc = SVC()"
   ]
  },
  {
   "cell_type": "markdown",
   "id": "ef1ed673",
   "metadata": {},
   "source": [
    "### best model finding"
   ]
  },
  {
   "cell_type": "code",
   "execution_count": 75,
   "id": "44645e7d",
   "metadata": {},
   "outputs": [],
   "source": [
    "from sklearn.model_selection import GridSearchCV"
   ]
  },
  {
   "cell_type": "code",
   "execution_count": 76,
   "id": "618d691b",
   "metadata": {},
   "outputs": [],
   "source": [
    "param_grid = {'C':[1,10,100,1000],\n",
    "             'kernel':['linear',  'rbf'],\n",
    "             'gamma':[0.1,0.2,0.3,0.4,0.5,0.6,0.7,0.8,0.9]}\n"
   ]
  },
  {
   "cell_type": "code",
   "execution_count": 77,
   "id": "b5070120",
   "metadata": {},
   "outputs": [],
   "source": [
    "gridSearchCV_SVC = GridSearchCV(estimator=svc,\n",
    "                               param_grid=param_grid,\n",
    "                               cv=10)"
   ]
  },
  {
   "cell_type": "code",
   "execution_count": 92,
   "id": "eaa86c83",
   "metadata": {},
   "outputs": [
    {
     "name": "stderr",
     "output_type": "stream",
     "text": [
      "C:\\Users\\Acer\\anaconda3\\lib\\site-packages\\sklearn\\model_selection\\_split.py:676: UserWarning: The least populated class in y has only 6 members, which is less than n_splits=10.\n",
      "  warnings.warn(\n"
     ]
    },
    {
     "data": {
      "text/plain": [
       "GridSearchCV(cv=10, estimator=SVC(),\n",
       "             param_grid={'C': [1, 10, 100, 1000],\n",
       "                         'gamma': [0.1, 0.2, 0.3, 0.4, 0.5, 0.6, 0.7, 0.8, 0.9],\n",
       "                         'kernel': ['linear', 'rbf']})"
      ]
     },
     "execution_count": 92,
     "metadata": {},
     "output_type": "execute_result"
    }
   ],
   "source": [
    "gridSearchCV_SVC.fit(x_train,y_train)"
   ]
  },
  {
   "cell_type": "code",
   "execution_count": 93,
   "id": "d8617b89",
   "metadata": {},
   "outputs": [
    {
     "name": "stdout",
     "output_type": "stream",
     "text": [
      "{'C': 100, 'gamma': 0.1, 'kernel': 'rbf'}\n",
      "SVC(C=100, gamma=0.1)\n"
     ]
    }
   ],
   "source": [
    "best_model_SVC = gridSearchCV_SVC.best_params_\n",
    "print(best_model_SVC)\n",
    "\n",
    "# Use the best model for prediction\n",
    "best_model = gridSearchCV_SVC.best_estimator_\n",
    "print(best_model)"
   ]
  },
  {
   "cell_type": "code",
   "execution_count": 94,
   "id": "5e0f5452",
   "metadata": {},
   "outputs": [],
   "source": [
    "y_pred_SVC = best_model.predict(x_test)"
   ]
  },
  {
   "cell_type": "code",
   "execution_count": 95,
   "id": "bde1c147",
   "metadata": {},
   "outputs": [
    {
     "data": {
      "text/plain": [
       "array([1, 7, 1, 7, 2, 2, 1, 2, 2, 1, 5, 5, 2, 2, 6, 5, 6, 3, 1, 2, 2, 7,\n",
       "       7, 7, 2, 1, 1, 1, 2, 1, 2, 2, 3, 2, 1, 7, 5, 3, 1, 2, 3, 7, 1],\n",
       "      dtype=int64)"
      ]
     },
     "execution_count": 95,
     "metadata": {},
     "output_type": "execute_result"
    }
   ],
   "source": [
    "y_pred_SVC"
   ]
  },
  {
   "cell_type": "markdown",
   "id": "c173f696",
   "metadata": {},
   "source": [
    "# Finding Accuracy"
   ]
  },
  {
   "cell_type": "code",
   "execution_count": 96,
   "id": "21751a36",
   "metadata": {},
   "outputs": [],
   "source": [
    "from sklearn.metrics import accuracy_score"
   ]
  },
  {
   "cell_type": "code",
   "execution_count": 97,
   "id": "5b3c8620",
   "metadata": {},
   "outputs": [
    {
     "data": {
      "text/plain": [
       "0.7441860465116279"
      ]
     },
     "execution_count": 97,
     "metadata": {},
     "output_type": "execute_result"
    }
   ],
   "source": [
    "SVC_accuracy = accuracy_score(y_pred_SVC,y_test)\n",
    "SVC_accuracy"
   ]
  },
  {
   "cell_type": "code",
   "execution_count": null,
   "id": "1da61eb4",
   "metadata": {},
   "outputs": [],
   "source": []
  },
  {
   "cell_type": "markdown",
   "id": "ccc8804a",
   "metadata": {},
   "source": [
    "## 2) Decision Tree"
   ]
  },
  {
   "cell_type": "code",
   "execution_count": 84,
   "id": "68a0a109",
   "metadata": {},
   "outputs": [],
   "source": [
    "from sklearn.tree import DecisionTreeClassifier\n",
    "decision_tree = DecisionTreeClassifier()"
   ]
  },
  {
   "cell_type": "code",
   "execution_count": 85,
   "id": "c68535c9",
   "metadata": {},
   "outputs": [],
   "source": [
    "from sklearn.model_selection import GridSearchCV\n"
   ]
  },
  {
   "cell_type": "code",
   "execution_count": 86,
   "id": "0261881c",
   "metadata": {},
   "outputs": [],
   "source": [
    "param_grid = {\n",
    "    'criterion': ['gini', 'entropy'],\n",
    "    'max_depth': [None, 5, 10, 15],\n",
    "    'min_samples_split': [2, 5, 10],\n",
    "    'min_samples_leaf': [1, 2, 4],\n",
    "}\n"
   ]
  },
  {
   "cell_type": "code",
   "execution_count": 102,
   "id": "732ced8d",
   "metadata": {},
   "outputs": [],
   "source": [
    "tree_GridSearchCV = GridSearchCV(estimator=decision_tree, param_grid=param_grid,cv=10)"
   ]
  },
  {
   "cell_type": "code",
   "execution_count": 103,
   "id": "1cbad469",
   "metadata": {},
   "outputs": [
    {
     "name": "stderr",
     "output_type": "stream",
     "text": [
      "C:\\Users\\Acer\\anaconda3\\lib\\site-packages\\sklearn\\model_selection\\_split.py:676: UserWarning: The least populated class in y has only 6 members, which is less than n_splits=10.\n",
      "  warnings.warn(\n"
     ]
    },
    {
     "data": {
      "text/plain": [
       "GridSearchCV(cv=10, estimator=DecisionTreeClassifier(),\n",
       "             param_grid={'criterion': ['gini', 'entropy'],\n",
       "                         'max_depth': [None, 5, 10, 15],\n",
       "                         'min_samples_leaf': [1, 2, 4],\n",
       "                         'min_samples_split': [2, 5, 10]})"
      ]
     },
     "execution_count": 103,
     "metadata": {},
     "output_type": "execute_result"
    }
   ],
   "source": [
    "tree_GridSearchCV.fit(x_train,y_train)"
   ]
  },
  {
   "cell_type": "code",
   "execution_count": 104,
   "id": "7af6eebe",
   "metadata": {},
   "outputs": [],
   "source": [
    "best_model_tree = tree_GridSearchCV.best_estimator_"
   ]
  },
  {
   "cell_type": "code",
   "execution_count": 105,
   "id": "5abdf7fb",
   "metadata": {},
   "outputs": [],
   "source": [
    "y_pred_tree = best_model_tree.predict(x_test)"
   ]
  },
  {
   "cell_type": "code",
   "execution_count": 106,
   "id": "329a32b2",
   "metadata": {},
   "outputs": [
    {
     "data": {
      "text/plain": [
       "0.7674418604651163"
      ]
     },
     "execution_count": 106,
     "metadata": {},
     "output_type": "execute_result"
    }
   ],
   "source": [
    "tree_classifier_accuracy = accuracy_score(y_pred_tree,y_test)\n",
    "tree_classifier_accuracy"
   ]
  },
  {
   "cell_type": "code",
   "execution_count": null,
   "id": "e5108f69",
   "metadata": {},
   "outputs": [],
   "source": []
  },
  {
   "cell_type": "markdown",
   "id": "c7da4415",
   "metadata": {},
   "source": [
    "## conclusion"
   ]
  },
  {
   "cell_type": "code",
   "execution_count": 115,
   "id": "48b9533f",
   "metadata": {},
   "outputs": [
    {
     "data": {
      "image/png": "[encoded data removed]",
      "text/plain": [
       "<Figure size 640x480 with 1 Axes>"
      ]
     },
     "metadata": {},
     "output_type": "display_data"
    }
   ],
   "source": [
    "\n",
    "models = ['Decision Tree Classifier', 'SVC']\n",
    "accuracy_scores = [tree_classifier_accuracy, SVC_accuracy]\n",
    "\n",
    "# Define colors\n",
    "colors = ['blue', 'green']\n",
    "\n",
    "# Plotting the accuracy scores with colors\n",
    "plt.bar(models, accuracy_scores, color=colors)\n",
    "\n",
    "# Adding labels and title to the plot\n",
    "plt.xlabel('Models')\n",
    "plt.ylabel('Accuracy Score')\n",
    "plt.title('Comparison of Accuracy Scores')\n",
    "\n",
    "# Displaying the plot\n",
    "plt.show()\n"
   ]
  },
  {
   "cell_type": "code",
   "execution_count": 110,
   "id": "35d61781",
   "metadata": {},
   "outputs": [
    {
     "data": {
      "image/png": "[encoded data removed]",
      "text/plain": [
       "<Figure size 640x480 with 1 Axes>"
      ]
     },
     "metadata": {},
     "output_type": "display_data"
    }
   ],
   "source": [
    "\n",
    "\n",
    "# Labels\n",
    "models = ['Decision Tree Classifier', 'SVC']\n",
    "\n",
    "# Sizes (accuracy scores)\n",
    "accuracy_scores = [tree_classifier_accuracy, SVC_accuracy]\n",
    "\n",
    "# Plotting the accuracy scores\n",
    "plt.pie(accuracy_scores, labels=models, autopct='%1.1f%%')\n",
    "\n",
    "# Adding title to the plot\n",
    "plt.title('Comparison of Accuracy Scores')\n",
    "\n",
    "# Displaying the plot\n",
    "plt.show()\n"
   ]
  },
  {
   "cell_type": "code",
   "execution_count": 114,
   "id": "53cf886b",
   "metadata": {},
   "outputs": [
    {
     "data": {
      "image/png": "[encoded data removed]",
      "text/plain": [
       "<Figure size 640x480 with 1 Axes>"
      ]
     },
     "metadata": {},
     "output_type": "display_data"
    }
   ],
   "source": [
    "\n",
    "accuracy_scores = [tree_classifier_accuracy, SVC_accuracy]\n",
    "\n",
    "# Define colors\n",
    "colors = ['blue', 'green']\n",
    "\n",
    "# Plotting the accuracy scores with colors\n",
    "plt.barh(models, accuracy_scores, color=colors)\n",
    "\n",
    "# Adding labels and title to the plot\n",
    "plt.xlabel('Accuracy Score')\n",
    "plt.ylabel('Models')\n",
    "plt.title('Comparison of Accuracy Scores')\n",
    "\n",
    "# Displaying the plot\n",
    "plt.show()\n"
   ]
  },
  {
   "cell_type": "code",
   "execution_count": null,
   "id": "0b7a210a",
   "metadata": {},
   "outputs": [],
   "source": []
  },
  {
   "cell_type": "markdown",
   "id": "7f9d8b4a",
   "metadata": {},
   "source": [
    "Based on the comparison of accuracy scores between the Decision Tree Classifier and the SVC (Support Vector Classifier), the Decision Tree Classifier achieved an accuracy score of approximately 76.74%, while the SVC achieved an accuracy score of around 74.42%.\n",
    "\n",
    "From these results, it can be concluded that the Decision Tree Classifier performed slightly better in terms of accuracy compared to the SVC. However, it's important to note that accuracy alone might not provide a complete picture of the model's performance."
   ]
  },
  {
   "cell_type": "code",
   "execution_count": null,
   "id": "cb479112",
   "metadata": {},
   "outputs": [],
   "source": []
  }
 ],
 "metadata": {
  "kernelspec": {
   "display_name": "Python 3 (ipykernel)",
   "language": "python",
   "name": "python3"
  },
  "language_info": {
   "codemirror_mode": {
    "name": "ipython",
    "version": 3
   },
   "file_extension": ".py",
   "mimetype": "text/x-python",
   "name": "python",
   "nbconvert_exporter": "python",
   "pygments_lexer": "ipython3",
   "version": "3.9.13"
  }
 },
 "nbformat": 4,
 "nbformat_minor": 5
}
